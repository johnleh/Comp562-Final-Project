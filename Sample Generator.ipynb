{
 "cells": [
  {
   "cell_type": "code",
   "execution_count": 27,
   "metadata": {},
   "outputs": [
    {
     "name": "stdout",
     "output_type": "stream",
     "text": [
      "benign\n",
      "malignant\n",
      "normal\n"
     ]
    }
   ],
   "source": [
    "import os\n",
    "from PIL import Image\n",
    "\n",
    "data_dir = './data/DIRNAMEHERE/'\n",
    "\n",
    "# Go through each class\n",
    "for folder in os.listdir(data_dir): \n",
    "    print(folder)\n",
    "    \n",
    "    # Go through all images\n",
    "    for photo in os.listdir(data_dir+folder):\n",
    "        img = Image.open(data_dir+folder+\"/\"+photo)\n",
    "\n",
    "        # Save more versions of that image\n",
    "        for ang in range(90, 360, 90):\n",
    "            new_img = img.rotate(ang)\n",
    "        \n",
    "            new_img.save(data_dir+folder+\"/rot_\" + str(ang) + \"_\"+ photo)"
   ]
  },
  {
   "cell_type": "code",
   "execution_count": null,
   "metadata": {},
   "outputs": [],
   "source": []
  }
 ],
 "metadata": {
  "kernelspec": {
   "display_name": "Python 3",
   "language": "python",
   "name": "python3"
  },
  "language_info": {
   "codemirror_mode": {
    "name": "ipython",
    "version": 3
   },
   "file_extension": ".py",
   "mimetype": "text/x-python",
   "name": "python",
   "nbconvert_exporter": "python",
   "pygments_lexer": "ipython3",
   "version": "3.8.5"
  }
 },
 "nbformat": 4,
 "nbformat_minor": 4
}
